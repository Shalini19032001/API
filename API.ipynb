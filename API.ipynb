{
  "nbformat": 4,
  "nbformat_minor": 0,
  "metadata": {
    "colab": {
      "provenance": []
    },
    "kernelspec": {
      "name": "python3",
      "display_name": "Python 3"
    },
    "language_info": {
      "name": "python"
    }
  },
  "cells": [
    {
      "cell_type": "markdown",
      "source": [
        "# Restful API & Flask"
      ],
      "metadata": {
        "id": "SLS72HLNaTOu"
      }
    },
    {
      "cell_type": "markdown",
      "source": [
        "1. What is a RESTful API\n",
        "\n",
        "- A RESTful API (Representational State Transfer API) is a web service that follows REST principles, enabling communication between client and server using HTTP methods like GET, POST, PUT, and DELETE. It is stateless and uses JSON or XML for data exchange."
      ],
      "metadata": {
        "id": "ANt5H2ftaXl1"
      }
    },
    {
      "cell_type": "markdown",
      "source": [
        "2. Explain the concept of API specification.\n",
        "\n",
        "- An API specification is a document that defines how an API should function, including request formats, response formats, endpoints, authentication methods, and expected behaviors. OpenAPI and Swagger are common standards for API specifications."
      ],
      "metadata": {
        "id": "fEC18vUqa2CX"
      }
    },
    {
      "cell_type": "markdown",
      "source": [
        "3. What is Flask, and why is it popular for building APIs\n",
        "\n",
        "- Flask is a lightweight Python web framework used for building APIs and web applications. It is popular due to its simplicity, flexibility, built-in development server, and support for extensions like Flask-RESTful and Flask-SQLAlchemy."
      ],
      "metadata": {
        "id": "5o1bM9zHa2YD"
      }
    },
    {
      "cell_type": "markdown",
      "source": [
        "4. What is routing in Flask?\n",
        "- Routing in Flask maps URLs to specific functions that handle requests. It is done using the @app.route() decorator."
      ],
      "metadata": {
        "id": "vj7K1eVha2he"
      }
    },
    {
      "cell_type": "markdown",
      "source": [
        "5. How do you create a simple Flask application?\n",
        "- from flask import Flask\n",
        "\n",
        "        app = Flask(__name__)\n",
        "\n",
        "        @app.route('/')\n",
        "        def home():\n",
        "        return \"Hello, Flask!\"\n",
        "\n",
        "        if __name__ == '__main__':\n",
        "        app.run(debug=True)"
      ],
      "metadata": {
        "id": "niDJ2plOa2n6"
      }
    },
    {
      "cell_type": "markdown",
      "source": [
        "6. What are HTTP methods used in RESTful APIs?\n",
        "\n",
        "- GET – Retrieve data\n",
        "\n",
        "-  POST – Create new data\n",
        "\n",
        "-  PUT – Update existing data\n",
        "\n",
        "-  DELETE – Remove data\n",
        "\n",
        "- PATCH – Partially update data"
      ],
      "metadata": {
        "id": "tzBlqaPsa2uy"
      }
    },
    {
      "cell_type": "markdown",
      "source": [
        "7. What is the purpose of the @app.route() decorator in Flask?\n",
        "\n",
        "- It defines URL routes and links them to specific view functions, determining how the app responds to HTTP requests."
      ],
      "metadata": {
        "id": "UhJnkHu5b2-P"
      }
    },
    {
      "cell_type": "markdown",
      "source": [
        "8. What is the difference between GET and POST HTTP methods?\n",
        "\n",
        "- GET is used to request data from a server and should not modify data.\n",
        "\n",
        "- POST is used to send data to the server, typically to create new resources."
      ],
      "metadata": {
        "id": "SYJ06jA7b3jt"
      }
    },
    {
      "cell_type": "markdown",
      "source": [
        "9. How do you handle errors in Flask APIs?\n",
        "\n",
        "- Use error handlers with @app.errorhandler() to manage errors like 404 (Not Found) and 500 (Server Error)."
      ],
      "metadata": {
        "id": "COy015YOb39D"
      }
    },
    {
      "cell_type": "markdown",
      "source": [
        "10. How do you connect Flask to a SQL database?\n",
        "\n",
        "- from flask_sqlalchemy import SQLAlchemy\n",
        "app.config['SQLALCHEMY_DATABASE_URI'] = 'sqlite:///database.db'\n",
        "db = SQLAlchemy(app)"
      ],
      "metadata": {
        "id": "6xhZQXc0b4Ui"
      }
    },
    {
      "cell_type": "markdown",
      "source": [
        "11. What is the role of Flask-SQLAlchemy?\n",
        "\n",
        "- It simplifies database interactions in Flask by integrating SQLAlchemy ORM."
      ],
      "metadata": {
        "id": "pkrUc8ztb4tX"
      }
    },
    {
      "cell_type": "markdown",
      "source": [
        "12. What are Flask blueprints, and how are they useful?\n",
        "\n",
        "- Blueprints allow modular structuring of Flask apps by defining reusable components."
      ],
      "metadata": {
        "id": "YrSityK1b5E8"
      }
    },
    {
      "cell_type": "markdown",
      "source": [
        "13. What is the purpose of Flask's request object?\n",
        "\n",
        "- It provides access to HTTP request data, including form data, JSON payloads, and headers."
      ],
      "metadata": {
        "id": "me7oZ9nLb5cc"
      }
    },
    {
      "cell_type": "markdown",
      "source": [
        "14. How do you create a RESTful API endpoint using Flask?\n",
        "\n",
        "- from flask import Flask, jsonify\n",
        "\n",
        "      app = Flask(__name__)\n",
        "\n",
        "       @app.route('/api/data', methods=['GET'])\n",
        "       def get_data():\n",
        "       return jsonify({\"message\": \"Hello, API!\"})\n",
        "\n",
        "        if __name__ == '__main__':\n",
        "        app.run(debug=True)"
      ],
      "metadata": {
        "id": "Z2BVTlN5b509"
      }
    },
    {
      "cell_type": "markdown",
      "source": [
        "15.What is the purpose of Flask's jsonify() function?\n",
        "\n",
        "- It converts Python dictionaries into JSON responses."
      ],
      "metadata": {
        "id": "3q9Xw7FXb6MF"
      }
    },
    {
      "cell_type": "markdown",
      "source": [
        "16. Explain Flask’s url_for() function.\n",
        "\n",
        "- It dynamically generates URLs for routes:\n",
        " Example:\n",
        "         url_for('home')"
      ],
      "metadata": {
        "id": "17dYf1_Lb6iE"
      }
    },
    {
      "cell_type": "markdown",
      "source": [
        "17. How does Flask handle static files (CSS, JavaScript, etc.)\n",
        "\n",
        "- Static files are stored in a /static folder, and accessed via url_for('static', filename='style.css')."
      ],
      "metadata": {
        "id": "EIIcMAH6b658"
      }
    },
    {
      "cell_type": "markdown",
      "source": [
        "18. What is an API specification, and how does it help in building a Flask API?\n",
        "\n",
        "- It defines API structure, ensuring consistency and proper documentation."
      ],
      "metadata": {
        "id": "yYW3_G89dq5H"
      }
    },
    {
      "cell_type": "markdown",
      "source": [
        "19. What are HTTP status codes, and why are they important in a Flask API?\n",
        "\n",
        "- HTTP status codes are standardized codes that indicate the outcome of an HTTP request. They help clients understand whether a request was successful, failed, or encountered an error.\n",
        "\n",
        "- Why are they important?\n",
        "\n",
        "- Clear communication – Helps clients understand the response without analyzing the body.\n",
        "\n",
        "- Efficient debugging – Makes it easier to diagnose issues.\n",
        "\n",
        "- Standardization – Ensures API consistency and follows web protocols.\n",
        "\n",
        "- Better client handling – Allows applications to respond accordingly to different errors."
      ],
      "metadata": {
        "id": "66lVc1f9drB1"
      }
    },
    {
      "cell_type": "markdown",
      "source": [
        "20. How do you handle POST requests in Flask?\n",
        "\n",
        "- from flask import Flask, request, jsonify\n",
        "\n",
        "      app = Flask(__name__)\n",
        "\n",
        "      @app.route('/submit', methods=['POST'])\n",
        "      def submit():\n",
        "      if request.is_json:  # Check if the request contains JSON data\n",
        "        data = request.get_json()\n",
        "        return jsonify({\"received\": data}), 200\n",
        "        else:\n",
        "        return jsonify({\"error\": \"Invalid JSON\"}), 400  # Return an error if JSON is missing\n",
        "\n",
        "         if __name__ == '__main__':\n",
        "    app.run(debug=True)"
      ],
      "metadata": {
        "id": "x9kA1IDpdrJh"
      }
    },
    {
      "cell_type": "markdown",
      "source": [
        "21. How would you secure a Flask API?\n",
        "\n",
        "- Use authentication (JWT, OAuth)\n",
        "\n",
        "- Implement input validation\n",
        "\n",
        "- Use HTTPS\n",
        "\n",
        "- Limit API rate usage"
      ],
      "metadata": {
        "id": "vCS6HpSadrQT"
      }
    },
    {
      "cell_type": "markdown",
      "source": [
        "22. What is the significance of the Flask-RESTful extension?\n",
        "\n",
        "- It simplifies building RESTful APIs by adding resource-based routing and request parsing."
      ],
      "metadata": {
        "id": "9wppQ1rWdrXB"
      }
    },
    {
      "cell_type": "markdown",
      "source": [
        "23. What is the role of Flask’s session object?\n",
        "\n",
        "- It stores user session data across requests."
      ],
      "metadata": {
        "id": "2CCkBuCzfr9f"
      }
    },
    {
      "cell_type": "markdown",
      "source": [
        "# PRACTICAL"
      ],
      "metadata": {
        "id": "gUz2c2NwfsHS"
      }
    },
    {
      "cell_type": "markdown",
      "source": [
        "1. How do you create a basic Flask application?\n",
        "\n",
        "- pip install flask\n",
        "from flask import Flask\n",
        "\n",
        "       app = Flask(__name__)  # Initialize the Flask application\n",
        "\n",
        "       @app.route('/')  # Define a route for the home page\n",
        "        def home():\n",
        "       return \"Hello, Flask!\"  # Return a simple response\n",
        "\n",
        "       if __name__ == '__main__':\n",
        "      app.run(debug=True)  # Run the Flask app in debug mode"
      ],
      "metadata": {
        "id": "OsWSJVXIfsPS"
      }
    },
    {
      "cell_type": "markdown",
      "source": [
        "2. How do you serve static files like images or CSS in Flask.\n",
        "\n",
        "- Create a static folder (place images, CSS, JS inside).\n",
        "\n",
        "      B. <link rel=\"stylesheet\" href=\"{{ url_for('static', filename='style.css') }}\">\n",
        "       <img src=\"{{ url_for('static', f.   ilename='image.jpg') }}\" alt=\"Image\">\n",
        "\n",
        "    from flask import Flask,        render_template\n",
        "\n",
        "        app = Flask(__name__)\n",
        "\n",
        "         @app.route('/')\n",
        "        def home():\n",
        "        return render_template('index.html')  # Uses static files\n",
        "\n",
        "        app.run(debug=True)"
      ],
      "metadata": {
        "id": "M1M6t8eZfsWT"
      }
    },
    {
      "cell_type": "markdown",
      "source": [
        "3. How do you define different routes with different HTTP methods in Flask?\n",
        "\n",
        "- You can define routes in Flask that handle different HTTP methods (GET, POST, etc.) using the methods parameter in @app.route().\n",
        "\n",
        "from flask import Flask, request\n",
        "\n",
        "         app = Flask(__name__)\n",
        "\n",
        "         @app.route('/user', methods=['GET', 'POST'])\n",
        "         def user():\n",
        "         if request.method == 'GET':\n",
        "          return \"This is a GET request\"\n",
        "          elif request.method == 'POST':\n",
        "          return \"This is a POST request\"\n",
        "\n",
        "         app.run(debug=True)"
      ],
      "metadata": {
        "id": "aJhAsk_Gfsdw"
      }
    },
    {
      "cell_type": "markdown",
      "source": [
        "4. How do you render HTML templates in Flask?\n",
        "\n",
        "- Store templates in the templates/ folder.\n",
        "\n",
        "- from flask import render_template  \n",
        "          @app.route('/hello')  \n",
        "          def hello():  \n",
        "          return render_template('index.html')"
      ],
      "metadata": {
        "id": "xMXEzohmhrnH"
      }
    },
    {
      "cell_type": "markdown",
      "source": [
        "5.How can you generate URLs for routes in Flask using url_for?\n",
        "\n",
        "- from flask import Flask, url_for\n",
        "\n",
        "         \n",
        "       url_for('home')  # Generates the URL for the 'home' route"
      ],
      "metadata": {
        "id": "TJhpg25VhsOC"
      }
    },
    {
      "cell_type": "markdown",
      "source": [
        "6. How do you handle forms in Flask?\n",
        "\n",
        "- from flask import request  \n",
        "       @app.route('/submit', methods=['POST'])  \n",
        "       def submit():  \n",
        "       name = request.form['name']  \n",
        "       return f'Hello, {name}!'"
      ],
      "metadata": {
        "id": "sosmBAsKhswi"
      }
    },
    {
      "cell_type": "markdown",
      "source": [
        "7. How can you validate form data in Flask?\n",
        "\n",
        "- Use WTForms for form validation.\n",
        "- from flask_wtf import FlaskForm  \n",
        "- from wtforms import StringField, validators  \n",
        "\n",
        "       class MyForm(FlaskForm):  \n",
        "       name = StringField('Name',     [validators.DataRequired()])"
      ],
      "metadata": {
        "id": "2tjyuIyrhtNk"
      }
    },
    {
      "cell_type": "markdown",
      "source": [
        "8. How do you manage sessions in Flask?\n",
        "\n",
        "- from flask import session  \n",
        "         app.secret_key = 'secret'  \n",
        "\n",
        "         @app.route('/set_session')  \n",
        "         def set_session():  \n",
        "         session['user'] = 'John'  \n",
        "         return 'Session set'"
      ],
      "metadata": {
        "id": "6UyWrLYPhtrb"
      }
    },
    {
      "cell_type": "markdown",
      "source": [
        "9.How do you redirect to a different route in Flask?\n",
        "\n",
        "- from flask import redirect  \n",
        "      @app.route('/go_home')  \n",
        "      def go_home():  \n",
        "      return redirect(url_for('home'))"
      ],
      "metadata": {
        "id": "J0kdU7C4huHe"
      }
    },
    {
      "cell_type": "markdown",
      "source": [
        "10. How do you handle errors in Flask (e.g., 404)?\n",
        "\n",
        "- @app.errorhandler(404)  \n",
        "      def not_found(e):  \n",
        "      return \"Page not found\", 404"
      ],
      "metadata": {
        "id": "UHjdyWQ_Mv-z"
      }
    },
    {
      "cell_type": "markdown",
      "source": [
        "11. How do you structure a Flask app using Blueprints?\n",
        "- from flask import Blueprint  \n",
        "\n",
        "      my_blueprint = Blueprint('my_blueprint', __name__)  \n",
        "\n",
        "      @my_blueprint.route('/hello')  \n",
        "      def hello():  \n",
        "      return \"Hello from Blueprint!\""
      ],
      "metadata": {
        "id": "NoUA4T5iMwSh"
      }
    },
    {
      "cell_type": "markdown",
      "source": [
        "12. How do you define a custom Jinja filter in Flask?\n",
        "\n",
        "- @app.template_filter('reverse')  \n",
        "       def reverse_filter(s):  \n",
        "       return s[::-1]"
      ],
      "metadata": {
        "id": "6q3ZWxEIMwcu"
      }
    },
    {
      "cell_type": "markdown",
      "source": [
        "13.How can you redirect with query parameters in Flask?\n",
        "\n",
        "- return redirect(url_for('home', name='John'))"
      ],
      "metadata": {
        "id": "xnELdppOMwnX"
      }
    },
    {
      "cell_type": "markdown",
      "source": [
        "14. How do you return JSON responses in Flask?\n",
        "\n",
        "- from flask import jsonify  \n",
        "        B.  @app.route('/json')  \n",
        "        def json_data():  \n",
        "        return jsonify({\"name\": \"John\", \"age\": 30})"
      ],
      "metadata": {
        "id": "3GiJJhTFMwu6"
      }
    },
    {
      "cell_type": "markdown",
      "source": [
        "15. How do you capture URL parameters in Flask?\n",
        "\n",
        "- @app.route('/user/<name>')  \n",
        "       def user(name):  \n",
        "       return f'Hello, {name}!'"
      ],
      "metadata": {
        "id": "1i37BpqtNaj5"
      }
    }
  ]
}